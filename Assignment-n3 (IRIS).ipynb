{
 "cells": [
  {
   "cell_type": "code",
   "execution_count": 1,
   "id": "0398e8a7",
   "metadata": {},
   "outputs": [],
   "source": [
    "import pandas as pd\n",
    "import numpy as np"
   ]
  },
  {
   "cell_type": "markdown",
   "id": "8029bcb9",
   "metadata": {},
   "source": [
    "## Input data"
   ]
  },
  {
   "cell_type": "code",
   "execution_count": 2,
   "id": "ddf57aef",
   "metadata": {},
   "outputs": [
    {
     "name": "stdout",
     "output_type": "stream",
     "text": [
      "     sepal_length  sepal_width  petal_length  petal_width    variety\n",
      "0             5.1          3.5           1.4          0.2     Setosa\n",
      "1             4.9          3.0           1.4          0.2     Setosa\n",
      "2             4.7          3.2           1.3          0.2     Setosa\n",
      "3             4.6          3.1           1.5          0.2     Setosa\n",
      "4             5.0          3.6           1.4          0.2     Setosa\n",
      "..            ...          ...           ...          ...        ...\n",
      "145           6.7          3.0           5.2          2.3  Virginica\n",
      "146           6.3          2.5           5.0          1.9  Virginica\n",
      "147           6.5          3.0           5.2          2.0  Virginica\n",
      "148           6.2          3.4           5.4          2.3  Virginica\n",
      "149           5.9          3.0           5.1          1.8  Virginica\n",
      "\n",
      "[150 rows x 5 columns]\n"
     ]
    }
   ],
   "source": [
    "data_file = open(\"data/iris.csv\", \"r\")\n",
    "df = pd.read_csv(data_file, delimiter=\";\", decimal=\",\")\n",
    "print(df)"
   ]
  },
  {
   "cell_type": "markdown",
   "id": "42add7a0",
   "metadata": {},
   "source": [
    "## Column mean"
   ]
  },
  {
   "cell_type": "code",
   "execution_count": 3,
   "id": "b72004f0",
   "metadata": {},
   "outputs": [
    {
     "data": {
      "text/plain": [
       "sepal_length    5.843333\n",
       "sepal_width     3.057333\n",
       "petal_length    3.758000\n",
       "petal_width     1.199333\n",
       "dtype: float64"
      ]
     },
     "execution_count": 3,
     "metadata": {},
     "output_type": "execute_result"
    }
   ],
   "source": [
    "df.mean(numeric_only=True)"
   ]
  },
  {
   "cell_type": "markdown",
   "id": "e69b6a09",
   "metadata": {},
   "source": [
    "## Total mean"
   ]
  },
  {
   "cell_type": "markdown",
   "id": "997bbee0",
   "metadata": {},
   "source": [
    "## Column variance"
   ]
  },
  {
   "cell_type": "code",
   "execution_count": 4,
   "id": "a3896eaf",
   "metadata": {},
   "outputs": [
    {
     "name": "stdout",
     "output_type": "stream",
     "text": [
      "sepal_length    0.681122\n",
      "sepal_width     0.188713\n",
      "petal_length    3.095503\n",
      "petal_width     0.577133\n",
      "dtype: float64\n"
     ]
    }
   ],
   "source": [
    "variance = df.var(ddof=0, numeric_only=True)\n",
    "print(variance)"
   ]
  },
  {
   "cell_type": "markdown",
   "id": "8ff00cf8",
   "metadata": {},
   "source": [
    "## Total variance"
   ]
  },
  {
   "cell_type": "code",
   "execution_count": 5,
   "id": "cb6ee9db",
   "metadata": {},
   "outputs": [
    {
     "name": "stdout",
     "output_type": "stream",
     "text": [
      "4.5424706666666665\n"
     ]
    }
   ],
   "source": [
    "print(sum(variance))"
   ]
  }
 ],
 "metadata": {
  "kernelspec": {
   "display_name": "Python 3 (ipykernel)",
   "language": "python",
   "name": "python3"
  },
  "language_info": {
   "codemirror_mode": {
    "name": "ipython",
    "version": 3
   },
   "file_extension": ".py",
   "mimetype": "text/x-python",
   "name": "python",
   "nbconvert_exporter": "python",
   "pygments_lexer": "ipython3",
   "version": "3.9.5"
  }
 },
 "nbformat": 4,
 "nbformat_minor": 5
}
