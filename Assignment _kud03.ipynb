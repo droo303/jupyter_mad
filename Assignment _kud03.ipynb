{
 "cells": [
  {
   "cell_type": "markdown",
   "id": "873eca1f",
   "metadata": {},
   "source": [
    "1. Implement one of the two presented algorithms.\n",
    "2. Apply this algorithm to at least two datasets. One can be IRIS,\n",
    "the others you can choose.\n",
    "3. Verify your results by comparing them with the results you\n",
    "obtain using an analytical tool (e.g., R or WEKA)"
   ]
  },
  {
   "cell_type": "code",
   "execution_count": 14,
   "id": "13aa4465",
   "metadata": {},
   "outputs": [
    {
     "name": "stdout",
     "output_type": "stream",
     "text": [
      "     sepal_length  sepal_width  petal_length  petal_width    variety\n",
      "0             5.1          3.5           1.4          0.2     Setosa\n",
      "1             4.9          3.0           1.4          0.2     Setosa\n",
      "2             4.7          3.2           1.3          0.2     Setosa\n",
      "3             4.6          3.1           1.5          0.2     Setosa\n",
      "4             5.0          3.6           1.4          0.2     Setosa\n",
      "..            ...          ...           ...          ...        ...\n",
      "145           6.7          3.0           5.2          2.3  Virginica\n",
      "146           6.3          2.5           5.0          1.9  Virginica\n",
      "147           6.5          3.0           5.2          2.0  Virginica\n",
      "148           6.2          3.4           5.4          2.3  Virginica\n",
      "149           5.9          3.0           5.1          1.8  Virginica\n",
      "\n",
      "[150 rows x 5 columns]\n"
     ]
    }
   ],
   "source": [
    "import pandas as pd\n",
    "import numpy as np\n",
    "import random as rd\n",
    "\n",
    "data_file = open(\"data/iris.csv\", \"r\")\n",
    "df = pd.read_csv(data_file, delimiter=\";\", decimal=\",\")\n",
    "\n",
    "print(df)\n",
    "\n",
    "max_value = df.select_dtypes(include=[np.number]).to_numpy().max()\n",
    "min_value = df.select_dtypes(include=[np.number]).to_numpy().min()"
   ]
  },
  {
   "cell_type": "markdown",
   "id": "f8606cc1",
   "metadata": {},
   "source": [
    "### Prepare data for K-means\n"
   ]
  },
  {
   "cell_type": "code",
   "execution_count": 17,
   "id": "f36d7c45",
   "metadata": {},
   "outputs": [],
   "source": [
    "#Get coordinates boundaries for initial centroids\n",
    "max_x = df[[\"sepal_length\"]].max()\n",
    "min_x = df[[\"sepal_length\"]].min()\n",
    "\n",
    "max_y = df[[\"sepal_width\"]].max()\n",
    "min_y = df[[\"sepal_width\"]].min()"
   ]
  },
  {
   "cell_type": "code",
   "execution_count": 24,
   "id": "d6d26988",
   "metadata": {},
   "outputs": [
    {
     "name": "stdout",
     "output_type": "stream",
     "text": [
      "sepal_length    5.0\n",
      "dtype: float64\n"
     ]
    }
   ],
   "source": [
    "# Get random centroids\n",
    "def Cluster:\n",
    "    rand_x = round(rd.uniform(min_x, max_x),1)\n",
    "    print(rand_x)"
   ]
  },
  {
   "cell_type": "code",
   "execution_count": null,
   "id": "5271e18b",
   "metadata": {},
   "outputs": [],
   "source": []
  }
 ],
 "metadata": {
  "kernelspec": {
   "display_name": "Python 3 (ipykernel)",
   "language": "python",
   "name": "python3"
  },
  "language_info": {
   "codemirror_mode": {
    "name": "ipython",
    "version": 3
   },
   "file_extension": ".py",
   "mimetype": "text/x-python",
   "name": "python",
   "nbconvert_exporter": "python",
   "pygments_lexer": "ipython3",
   "version": "3.9.5"
  }
 },
 "nbformat": 4,
 "nbformat_minor": 5
}
