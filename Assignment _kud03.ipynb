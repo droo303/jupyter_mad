{
 "cells": [
  {
   "cell_type": "markdown",
   "id": "873eca1f",
   "metadata": {},
   "source": [
    "1. Implement one of the two presented algorithms.\n",
    "2. Apply this algorithm to at least two datasets. One can be IRIS,\n",
    "the others you can choose.\n",
    "3. Verify your results by comparing them with the results you\n",
    "obtain using an analytical tool (e.g., R or WEKA)"
   ]
  },
  {
   "cell_type": "code",
   "execution_count": null,
   "id": "13aa4465",
   "metadata": {},
   "outputs": [],
   "source": [
    "        n_samples = len(X)\n",
    "\n",
    "        # Construct the tree\n",
    "        kwargs = {}\n",
    "        if self.linkage != \"ward\":\n",
    "            kwargs[\"linkage\"] = self.linkage\n",
    "            kwargs[\"affinity\"] = self.affinity\n",
    "\n",
    "        # Cut the tree\n",
    "        labels = _hierarchical.hc_get_heads(parents, copy=False)\n",
    "        # copy to avoid holding a reference on the original array\n",
    "        labels = np.copy(labels[:n_samples])\n",
    "        # Reassign cluster numbers\n",
    "        self.labels_ = np.searchsorted(np.unique(labels), labels)\n",
    "        return self"
   ]
  }
 ],
 "metadata": {
  "kernelspec": {
   "display_name": "Python 3 (ipykernel)",
   "language": "python",
   "name": "python3"
  },
  "language_info": {
   "codemirror_mode": {
    "name": "ipython",
    "version": 3
   },
   "file_extension": ".py",
   "mimetype": "text/x-python",
   "name": "python",
   "nbconvert_exporter": "python",
   "pygments_lexer": "ipython3",
   "version": "3.9.5"
  }
 },
 "nbformat": 4,
 "nbformat_minor": 5
}
