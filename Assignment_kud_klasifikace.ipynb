{
 "cells": [
  {
   "cell_type": "markdown",
   "id": "b5992855",
   "metadata": {},
   "source": [
    "Implement one of the two presented classifiers (Naïve Bayes\n",
    "or k-NN).\n",
    "2. Apply this classification algorithm to at least two datasets.\n",
    "One can be categorical Weather (Naïve Bayes) or IRIS (k-NN),\n",
    "the others you can choose.\n",
    "3. Apply 10-fold cross validation. Verify your results by\n",
    "comparing them with the results you obtain using an\n",
    "analytical tool (e.g., R or WEKA)."
   ]
  }
 ],
 "metadata": {
  "kernelspec": {
   "display_name": "Python 3 (ipykernel)",
   "language": "python",
   "name": "python3"
  },
  "language_info": {
   "codemirror_mode": {
    "name": "ipython",
    "version": 3
   },
   "file_extension": ".py",
   "mimetype": "text/x-python",
   "name": "python",
   "nbconvert_exporter": "python",
   "pygments_lexer": "ipython3",
   "version": "3.9.5"
  }
 },
 "nbformat": 4,
 "nbformat_minor": 5
}
